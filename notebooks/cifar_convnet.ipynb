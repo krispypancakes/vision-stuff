{
 "cells": [
  {
   "cell_type": "code",
   "execution_count": 142,
   "metadata": {},
   "outputs": [],
   "source": [
    "import torch\n",
    "import numpy as np\n",
    "from torch.utils.data import DataLoader, Dataset\n",
    "import torchvision\n",
    "import matplotlib.pyplot as plt\n",
    "import pickle"
   ]
  },
  {
   "cell_type": "code",
   "execution_count": 69,
   "metadata": {},
   "outputs": [
    {
     "name": "stdout",
     "output_type": "stream",
     "text": [
      "Files already downloaded and verified\n",
      "Files already downloaded and verified\n"
     ]
    },
    {
     "data": {
      "text/plain": [
       "Dataset CIFAR10\n",
       "    Number of datapoints: 10000\n",
       "    Root location: ../data/\n",
       "    Split: Test"
      ]
     },
     "execution_count": 69,
     "metadata": {},
     "output_type": "execute_result"
    }
   ],
   "source": [
    "# we actually just need it to download cifar dataset\n",
    "torchvision.datasets.CIFAR10(train=True, download=True, root='../data/')\n",
    "torchvision.datasets.CIFAR10(train=False, download=True, root='../data/')\n"
   ]
  },
  {
   "cell_type": "code",
   "execution_count": 168,
   "metadata": {},
   "outputs": [],
   "source": [
    "class CiFaData(Dataset):\n",
    "  def __init__(self, stage=\"train\"):\n",
    "    self.base_folder = \"cifar-10-batches-py\"\n",
    "    if stage == \"train\":\n",
    "      batch_collection = [f\"data_batch_{i}\" for i in range(1, 5)]\n",
    "    elif stage == \"val\":\n",
    "      batch_collection = [\"data_batch_5\"]\n",
    "    elif stage == \"test\":\n",
    "      batch_collection = [\"test_batch\"]\n",
    "    else:\n",
    "      raise ValueError(\"Invalid stage, choose from train, val, test.\")\n",
    "    x_data = []\n",
    "    y_data = []\n",
    "    for batch in batch_collection:\n",
    "      with open(f\"../data/cifar-10-batches-py/{batch}\", \"rb\") as f:\n",
    "        data = pickle.load(f, encoding=\"latin1\") \n",
    "        x_data.extend(data[\"data\"])\n",
    "        y_data.extend(data[\"labels\"])\n",
    "    x_data = np.vstack(x_data).reshape(-1, 3, 32, 32) # from list to np stack; unflatten\n",
    "    x_data = x_data.transpose(0, 2, 3, 1) # into (N, H, W, C)\n",
    "    self.x_data = torch.tensor(x_data)\n",
    "    self.y_data = torch.tensor(y_data)\n",
    "  \n",
    "  def __len__(self):\n",
    "    # each 'batch' comes with 10k examples\n",
    "    return self.y_data.shape[0]\n",
    "\n",
    "  def __getitem__(self, idx):\n",
    "    return(self.x_data[idx], self.y_data[idx])"
   ]
  },
  {
   "cell_type": "code",
   "execution_count": 169,
   "metadata": {},
   "outputs": [],
   "source": [
    "train_ds = CiFaData(stage=\"train\")\n",
    "val_ds = CiFaData(stage=\"val\")\n",
    "test_ds = CiFaData(stage=\"test\")"
   ]
  },
  {
   "cell_type": "code",
   "execution_count": 170,
   "metadata": {},
   "outputs": [],
   "source": [
    "train_loader = DataLoader(train_ds, batch_size=32, shuffle=True)\n",
    "val_loader = DataLoader(val_ds, batch_size=32, shuffle=False)\n",
    "test_loader = DataLoader(test_ds, batch_size=32, shuffle=False)"
   ]
  },
  {
   "cell_type": "code",
   "execution_count": 174,
   "metadata": {},
   "outputs": [
    {
     "name": "stdout",
     "output_type": "stream",
     "text": [
      "40000\n"
     ]
    }
   ],
   "source": [
    "# sanity check: length of loader\n",
    "count_total = 0\n",
    "for x, y in train_loader:\n",
    "  count_total += x.shape[0]\n",
    "  # count += 1\n",
    "print(count_total)"
   ]
  },
  {
   "cell_type": "code",
   "execution_count": 175,
   "metadata": {},
   "outputs": [
    {
     "data": {
      "text/plain": [
       "<matplotlib.image.AxesImage at 0x17f7d8210>"
      ]
     },
     "execution_count": 175,
     "metadata": {},
     "output_type": "execute_result"
    },
    {
     "data": {
      "image/png": "[encoded data removed]",
      "text/plain": [
       "<Figure size 640x480 with 1 Axes>"
      ]
     },
     "metadata": {},
     "output_type": "display_data"
    }
   ],
   "source": [
    "# check the object and look at some images\n",
    "plt.imshow(x[0])"
   ]
  },
  {
   "cell_type": "code",
   "execution_count": null,
   "metadata": {},
   "outputs": [],
   "source": []
  }
 ],
 "metadata": {
  "kernelspec": {
   "display_name": ".venv",
   "language": "python",
   "name": "python3"
  },
  "language_info": {
   "codemirror_mode": {
    "name": "ipython",
    "version": 3
   },
   "file_extension": ".py",
   "mimetype": "text/x-python",
   "name": "python",
   "nbconvert_exporter": "python",
   "pygments_lexer": "ipython3",
   "version": "3.11.4"
  }
 },
 "nbformat": 4,
 "nbformat_minor": 2
}
