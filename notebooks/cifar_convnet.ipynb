{
 "cells": [
  {
   "cell_type": "code",
   "execution_count": 1,
   "metadata": {},
   "outputs": [],
   "source": [
    "%load_ext autoreload\n",
    "%autoreload 2\n",
    "\n",
    "import torch\n",
    "from torch import nn\n",
    "import torch.nn.functional as F\n",
    "import torch.optim as optim\n",
    "import numpy as np\n",
    "from torch.utils.data import DataLoader, Dataset\n",
    "import torchvision\n",
    "import torchvision.transforms as transforms\n",
    "import matplotlib.pyplot as plt\n",
    "import pickle\n",
    "from tqdm import tqdm, trange\n",
    "import matplotlib.pyplot as plt\n",
    "try:\n",
    "  from helpers import get_model_size\n",
    "except ModuleNotFoundError:\n",
    "  import sys\n",
    "  sys.path.append(\"../\")\n",
    "  from helpers import get_model_size"
   ]
  },
  {
   "cell_type": "code",
   "execution_count": null,
   "metadata": {},
   "outputs": [],
   "source": [
    "# we actually just need it to download cifar dataset\n",
    "torchvision.datasets.CIFAR10(train=True, download=True, root='../data/', transform=transforms.ToTensor())\n",
    "torchvision.datasets.CIFAR10(train=False, download=True, root='../data/', transform=transforms.ToTensor())"
   ]
  },
  {
   "cell_type": "code",
   "execution_count": 2,
   "metadata": {},
   "outputs": [],
   "source": [
    "class CiFaData(Dataset):\n",
    "  def __init__(self, stage=\"train\", transform=None, device=\"cpu\"):\n",
    "    self.device = device\n",
    "    self.base_folder = \"cifar-10-batches-py\"\n",
    "    self.transform = transform\n",
    "    if stage == \"train\":\n",
    "      batch_collection = [f\"data_batch_{i}\" for i in range(1, 5)]\n",
    "    elif stage == \"val\":\n",
    "      batch_collection = [\"data_batch_5\"]\n",
    "    elif stage == \"test\":\n",
    "      batch_collection = [\"test_batch\"]\n",
    "    else:\n",
    "      raise ValueError(\"Invalid stage, choose from train, val, test.\")\n",
    "    self.x_data = []\n",
    "    self.y_data = []\n",
    "    for batch in batch_collection:\n",
    "      with open(f\"../data/cifar-10-batches-py/{batch}\", \"rb\") as f:\n",
    "        data = pickle.load(f, encoding=\"latin1\") \n",
    "        self.x_data.extend(data[\"data\"])\n",
    "        self.y_data.extend(data[\"labels\"])\n",
    "    self.y_data = torch.tensor(self.y_data)\n",
    "    self.x_data = np.vstack(self.x_data).reshape(-1, 3, 32, 32) # from list to np stack; results in (N, 3, 32, 32)\n",
    "    self.x_data = self.x_data.transpose((0, 2, 3, 1)) # into (N, H, W, C)\n",
    "  def __len__(self):\n",
    "    return len(self.y_data)\n",
    "  def __getitem__(self, idx):\n",
    "    if self.transform:\n",
    "      return self.transform(self.x_data[idx]), self.y_data[idx]\n",
    "    return transforms.ToTensor()(self.x_data[idx]).to(self.device), self.y_data[idx].to(self.device)"
   ]
  },
  {
   "cell_type": "code",
   "execution_count": 19,
   "metadata": {},
   "outputs": [],
   "source": [
    "tf = transforms.Normalize((0.5, 0.5, 0.5), (0.5, 0.5, 0.5))\n",
    "\n",
    "device = 'cuda' if torch.cuda.is_available() else 'cpu'\n",
    "\n",
    "train_ds = CiFaData(stage=\"train\", device=device)\n",
    "val_ds = CiFaData(stage=\"val\", device=device)\n",
    "test_ds = CiFaData(stage=\"test\", device=device)"
   ]
  },
  {
   "cell_type": "code",
   "execution_count": 20,
   "metadata": {},
   "outputs": [],
   "source": [
    "# pinning memory, takes cpu data and pins it to the gpu. meaning if I already \n",
    "train_loader = DataLoader(train_ds, batch_size=128, shuffle=True) \n",
    "val_loader = DataLoader(val_ds, batch_size=128, shuffle=False)\n",
    "test_loader = DataLoader(test_ds, batch_size=128, shuffle=False)"
   ]
  },
  {
   "cell_type": "code",
   "execution_count": null,
   "metadata": {},
   "outputs": [],
   "source": [
    "# using the Sequential container\n",
    "class LittleConvSeq(nn.Module):\n",
    "  def __init__(self):\n",
    "    super().__init__()\n",
    "    self.net = nn.Sequential(\n",
    "    nn.Conv2d(3,6,5), # out: (B, 6, 28, 28)\n",
    "    nn.ReLU(),\n",
    "    nn.MaxPool2d(2,2), # (B, 6, 14, 14)\n",
    "    nn.Flatten(1),\n",
    "    nn.Linear(6 *14*14, 10) # (B, 10)\n",
    "    )\n",
    "  def forward(self, x):\n",
    "    # x = F.relu(self.conv1(x))\n",
    "    # x = self.pool(x)\n",
    "    # x = self.fc1(torch.flatten(x,1))\n",
    "    return self.net(x)"
   ]
  },
  {
   "cell_type": "code",
   "execution_count": null,
   "metadata": {},
   "outputs": [],
   "source": [
    "# without using the Sequential container\n",
    "class LittleConv(nn.Module):\n",
    "  def __init__(self):\n",
    "    super().__init__()\n",
    "    self.conv1 = nn.Conv2d(3,6,5) # out: (B, 6, 28, 28)\n",
    "    self.pool = nn.MaxPool2d(2,2) # (B, 6, 14, 14)\n",
    "    self.fc1 = nn.Linear(6 *14*14, 10) # (B, 10)\n",
    "\n",
    "  def forward(self, x):\n",
    "    x = F.relu(self.conv1(x))\n",
    "    x = self.pool(x)\n",
    "    x = self.fc1(torch.flatten(x,1))\n",
    "    return x"
   ]
  },
  {
   "cell_type": "code",
   "execution_count": null,
   "metadata": {},
   "outputs": [],
   "source": [
    "# with cuda: bs32 - 2.44s; bs64 - 2.47; bs128 - 2.31s\n",
    "\n",
    "epochs = 20\n",
    "\n",
    "littleconv = LittleConv()\n",
    "optimimizer = optim.SGD(lr=0.001, params=littleconv.parameters(), momentum=0.9)\n",
    "criterion = nn.CrossEntropyLoss()\n",
    "littleconv.to('cuda')\n",
    "\n",
    "for i in (t:= trange(epochs)):\n",
    "  for x, y in cuda_loader:\n",
    "    optimimizer.zero_grad()\n",
    "    pred = littleconv(x)  \n",
    "    loss = criterion(pred, y)\n",
    "    loss.backward()\n",
    "    optimimizer.step()\n",
    "\n",
    "  t.set_description(f\"epoch {i+1}: loss: {loss.item():.4f}\")\n",
    "f\"that took {t.format_interval(t.format_dict['elapsed'])} minutes\""
   ]
  },
  {
   "cell_type": "code",
   "execution_count": null,
   "metadata": {},
   "outputs": [],
   "source": [
    "# cpu: bs 32 - 1.76s; bs64 - 1.42; bs128 - 1.28s\n",
    "\n",
    "epochs = 20\n",
    "\n",
    "littleconv = LittleConv()\n",
    "optimimizer = optim.SGD(lr=0.001, params=littleconv.parameters(), momentum=0.9)\n",
    "criterion = nn.CrossEntropyLoss()\n",
    "littleconv.to('cpu')\n",
    "\n",
    "for i in (t:= trange(epochs)):\n",
    "  for x, y in cpu_loader:\n",
    "    optimimizer.zero_grad()\n",
    "    pred = littleconv(x)  \n",
    "    loss = criterion(pred, y)\n",
    "    loss.backward()\n",
    "    optimimizer.step()\n",
    "\n",
    "  t.set_description(f\"epoch {i+1}: loss: {loss.item():.4f}\")\n",
    "f\"that took {t.format_interval(t.format_dict['elapsed'])} minutes\""
   ]
  },
  {
   "cell_type": "code",
   "execution_count": null,
   "metadata": {},
   "outputs": [],
   "source": [
    "# example net\n",
    "\n",
    "class Net(nn.Module):\n",
    "    def __init__(self):\n",
    "        super().__init__()\n",
    "        self.conv1 = nn.Conv2d(3, 6, 5)\n",
    "        self.pool = nn.MaxPool2d(2, 2)\n",
    "        self.conv2 = nn.Conv2d(6, 16, 5)\n",
    "        self.fc1 = nn.Linear(16 * 5 * 5, 120)\n",
    "        self.fc2 = nn.Linear(120, 84)\n",
    "        self.fc3 = nn.Linear(84, 10)\n",
    "\n",
    "    def forward(self, x):\n",
    "        x = self.pool(F.relu(self.conv1(x)))\n",
    "        x = self.pool(F.relu(self.conv2(x)))\n",
    "        x = torch.flatten(x, 1) # flatten all dimensions except batch\n",
    "        x = F.relu(self.fc1(x))\n",
    "        x = F.relu(self.fc2(x))\n",
    "        x = self.fc3(x)\n",
    "        return x\n",
    "\n",
    "net = Net()"
   ]
  },
  {
   "cell_type": "code",
   "execution_count": null,
   "metadata": {},
   "outputs": [],
   "source": [
    "epochs = 20\n",
    "\n",
    "net.to('cpu')\n",
    "\n",
    "# littleconv = LittleConv()\n",
    "optimimizer = optim.SGD(lr=0.001, params=net.parameters(), momentum=0.9)\n",
    "criterion = nn.CrossEntropyLoss()\n",
    "\n",
    "for i in (t:= trange(epochs)):\n",
    "  for x, y in cpu_loader:\n",
    "    optimimizer.zero_grad()\n",
    "    pred = net(x)  \n",
    "    loss = criterion(pred, y)\n",
    "    loss.backward()\n",
    "    optimimizer.step()\n",
    "\n",
    "  t.set_description(f\"epoch {i+1}: loss: {loss.item():.4f}\")"
   ]
  },
  {
   "cell_type": "code",
   "execution_count": null,
   "metadata": {},
   "outputs": [],
   "source": [
    "epochs = 20\n",
    "\n",
    "net.to('cuda')\n",
    "\n",
    "# littleconv = LittleConv()\n",
    "optimimizer = optim.SGD(lr=0.001, params=net.parameters(), momentum=0.9)\n",
    "criterion = nn.CrossEntropyLoss()\n",
    "\n",
    "for i in (t:= trange(epochs)):\n",
    "  for x, y in cuda_loader:\n",
    "    optimimizer.zero_grad()\n",
    "    pred = net(x)  \n",
    "    loss = criterion(pred, y)\n",
    "    loss.backward()\n",
    "    optimimizer.step()\n",
    "\n",
    "  t.set_description(f\"epoch {i+1}: loss: {loss.item():.4f}\")"
   ]
  },
  {
   "cell_type": "markdown",
   "metadata": {},
   "source": [
    "ResNet 18"
   ]
  },
  {
   "cell_type": "code",
   "execution_count": 5,
   "metadata": {},
   "outputs": [],
   "source": [
    "class ResNet18(nn.Module):\n",
    "  def __init__(self, device):\n",
    "    super().__init__()\n",
    "    self.device = device\n",
    "    self.block0 = nn.Sequential(\n",
    "      nn.Conv2d(in_channels=3, kernel_size=7, out_channels=64, stride=2, padding=3), \n",
    "      nn.ReLU(),\n",
    "      nn.MaxPool2d(kernel_size=3, stride=2, padding=1)\n",
    "    )\n",
    "    self.block1_1 = nn.Sequential(\n",
    "      nn.Conv2d(in_channels=64, kernel_size=3, out_channels=64, stride=1, padding=1),\n",
    "      nn.ReLU(),\n",
    "      nn.Conv2d(in_channels=64, kernel_size=3, out_channels=64, stride=1, padding=1)\n",
    "    )\n",
    "    self.block1_2 = nn.Sequential(\n",
    "      nn.Conv2d(in_channels=64, out_channels=64, kernel_size=3, stride=1, padding=1),\n",
    "      nn.ReLU(),\n",
    "      nn.Conv2d(in_channels=64, out_channels=64, kernel_size=3, stride=1, padding=1),\n",
    "    )\n",
    "    self.block2_1 = nn.Sequential(\n",
    "      nn.Conv2d(in_channels=64, out_channels=128, kernel_size=3, stride=2, padding=1),\n",
    "      nn.ReLU(),\n",
    "      nn.Conv2d(in_channels=128, out_channels=128, kernel_size=3, stride=1, padding=1),\n",
    "    )\n",
    "    self.block2_2 = nn.Sequential(\n",
    "      nn.Conv2d(in_channels=128, out_channels=128, kernel_size=3, stride=1, padding=1),\n",
    "      nn.ReLU(),\n",
    "      nn.Conv2d(in_channels=128, out_channels=128, kernel_size=3, stride=1, padding=1),\n",
    "    )\n",
    "    self.block3_1 = nn.Sequential(\n",
    "      nn.Conv2d(in_channels=128, out_channels=256, kernel_size=3, stride=2, padding=1),\n",
    "      nn.ReLU(),\n",
    "      nn.Conv2d(in_channels=256, out_channels=256, kernel_size=3, stride=1, padding=1),\n",
    "    )\n",
    "    self.block3_2 = nn.Sequential(\n",
    "      nn.Conv2d(in_channels=256, out_channels=256, kernel_size=3, stride=1, padding=1),\n",
    "      nn.ReLU(),\n",
    "      nn.Conv2d(in_channels=256, out_channels=256, kernel_size=3, stride=1, padding=1),\n",
    "    )\n",
    "    self.block4_1 = nn.Sequential(\n",
    "      nn.Conv2d(in_channels=256, out_channels=512, kernel_size=3, stride=2, padding=1),\n",
    "      nn.ReLU(),\n",
    "      nn.Conv2d(in_channels=512, out_channels=512, kernel_size=3, stride=1, padding=1),\n",
    "    )\n",
    "    self.block4_2 = nn.Sequential(\n",
    "      nn.Conv2d(in_channels=512, out_channels=512, kernel_size=3, stride=1, padding=1),\n",
    "      nn.ReLU(),\n",
    "      nn.Conv2d(in_channels=512, out_channels=512, kernel_size=3, stride=1, padding=1),\n",
    "    )\n",
    "    self.avg_pool = nn.AdaptiveAvgPool2d((1,1))\n",
    "    self.fc = nn.Linear(512, 10)\n",
    "  def forward(self, x):\n",
    "    # introduction block\n",
    "    x = self.block0(x) # (128, 64, 8, 8)\n",
    "    # Block 1\n",
    "    x_skip = x # determine the skip-x\n",
    "    x = self.block1_1(x) # (128, 64, 8, 8)\n",
    "    # project the output onto the skip and apply activation\n",
    "    x = F.relu(x+x_skip) # (128,64,8,8)\n",
    "    x_skip = x # (128,64,8,8)\n",
    "    x = self.block1_2(x) # (128,64,8,8)\n",
    "    x = F.relu(x+x_skip) # (128,64,8,8)\n",
    "    # Block 2 \n",
    "    # match dimensions\n",
    "    x_skip = nn.Conv2d(in_channels=64, out_channels=128, kernel_size=1, stride=2, device=self.device)(x) # (128,128,4,4)\n",
    "    # x_skip = x # (128,64,8,8)\n",
    "    x = self.block2_1(x) # (128,128,4,4)\n",
    "    x = F.relu(x+x_skip) # (128,128,4,4))\n",
    "    x_skip = x # (128,128,4,4)\n",
    "    x = self.block2_2(x) # (128,128,4,4)\n",
    "    x = F.relu(x+x_skip) # (128,128,4,4)\n",
    "    # Block3\n",
    "    # match dimensions\n",
    "    x_skip = nn.Conv2d(in_channels=128, out_channels=256, kernel_size=1, stride=2, device=self.device)(x) # (128,512,2,2)\n",
    "    x = self.block3_1(x) # (128,256,2,2)\n",
    "    x = F.relu(x+x_skip) \n",
    "    x_skip = x # (128,256,2,2)\n",
    "    x = self.block3_2(x) # (128,256,2,2))\n",
    "    x = F.relu(x+x_skip) # (128,256,2,2))\n",
    "    # Block4\n",
    "    x_skip = nn.Conv2d(in_channels=256, out_channels=512, kernel_size=1, stride=2, device=self.device)(x) # (128,512,1,1)\n",
    "    x = self.block4_1(x) # (128,512,1,1)\n",
    "    x = F.relu(x+x_skip) \n",
    "    x_skip = x # (128,512,1,1)\n",
    "    x = self.block4_2(x) # (128,512,1,1)\n",
    "    x = F.relu(x+x_skip) # (128,512,1,1)\n",
    "    # end of resing\n",
    "    x = self.avg_pool(x) # (128,512,1,1)\n",
    "    x = torch.flatten(x, 1) # (128,512)\n",
    "    x = self.fc(x) # (128,10)\n",
    "    return x"
   ]
  },
  {
   "cell_type": "code",
   "execution_count": 21,
   "metadata": {},
   "outputs": [
    {
     "name": "stdout",
     "output_type": "stream",
     "text": [
      "model size: 41.977MB\n"
     ]
    }
   ],
   "source": [
    "epochs = 100\n",
    "\n",
    "res18 = ResNet18(device=device)\n",
    "res18.to(device)\n",
    "\n",
    "optimizer = optim.SGD(params=[p for p in res18.parameters() if p.requires_grad == True], lr=0.1)\n",
    "criterion = nn.CrossEntropyLoss()\n",
    "\n",
    "model_size = get_model_size(res18)"
   ]
  },
  {
   "cell_type": "code",
   "execution_count": 18,
   "metadata": {},
   "outputs": [],
   "source": [
    "@torch.no_grad()\n",
    "def estimate_loss(model, loader, crit):\n",
    "  test_loss = []\n",
    "  for x, y in loader:\n",
    "    predictions = model(x)\n",
    "    loss = crit(predictions, y)\n",
    "    test_loss.append(loss.item())\n",
    "  return np.mean(test_loss)"
   ]
  },
  {
   "cell_type": "code",
   "execution_count": 22,
   "metadata": {},
   "outputs": [
    {
     "name": "stderr",
     "output_type": "stream",
     "text": [
      "  0%|          | 0/100 [00:00<?, ?it/s]"
     ]
    },
    {
     "name": "stderr",
     "output_type": "stream",
     "text": [
      "epoch 100 | training loss: 0.033294343806136724 | validation loss: 2.314668309839466: 100%|██████████| 100/100 [06:57<00:00,  4.18s/it]\n"
     ]
    }
   ],
   "source": [
    "# training loop\n",
    "losses = []\n",
    "raw_losses = []\n",
    "val_losses = []\n",
    "\n",
    "for i in (t:=trange(epochs)):\n",
    "  epoch_loss = []\n",
    "  for step, (x, y) in enumerate(train_loader):\n",
    "    predictions = res18(x)\n",
    "    loss = criterion(predictions, y)\n",
    "    optimizer.zero_grad(set_to_none=True)\n",
    "    loss.backward()\n",
    "    optimizer.step()\n",
    "    raw_losses.append(loss.item())\n",
    "    epoch_loss.append(loss.item())\n",
    "  # only one per iteration\n",
    "  losses.append(np.mean(epoch_loss))\n",
    "  val_loss = estimate_loss(res18, val_loader, criterion)\n",
    "  val_losses.append(val_loss)\n",
    "  t.set_description(f\"epoch {i+1} | training loss: {losses[-1]} | validation loss: {val_loss}\")\n",
    "  \n",
    "test_loss = estimate_loss(res18, test_loader, criterion) \n",
    "print(f'final test loss is : {test_loss}')\n"
   ]
  },
  {
   "cell_type": "code",
   "execution_count": 23,
   "metadata": {},
   "outputs": [
    {
     "name": "stdout",
     "output_type": "stream",
     "text": [
      "final test loss is : 2.377711010884635\n"
     ]
    }
   ],
   "source": [
    "test_loss = estimate_loss(res18, test_loader, criterion) \n",
    "print(f'final test loss is : {test_loss}')"
   ]
  },
  {
   "cell_type": "code",
   "execution_count": 25,
   "metadata": {},
   "outputs": [
    {
     "data": {
      "image/png": "[encoded data removed]",
      "text/plain": [
       "<Figure size 640x480 with 1 Axes>"
      ]
     },
     "metadata": {},
     "output_type": "display_data"
    }
   ],
   "source": [
    "plt.figure()\n",
    "plt.plot(range(epochs), losses, label='training')\n",
    "plt.plot(range(epochs), val_losses, label='validation')\n",
    "plt.legend()\n",
    "plt.show()"
   ]
  },
  {
   "cell_type": "code",
   "execution_count": null,
   "metadata": {},
   "outputs": [],
   "source": []
  }
 ],
 "metadata": {
  "kernelspec": {
   "display_name": ".venv",
   "language": "python",
   "name": "python3"
  },
  "language_info": {
   "codemirror_mode": {
    "name": "ipython",
    "version": 3
   },
   "file_extension": ".py",
   "mimetype": "text/x-python",
   "name": "python",
   "nbconvert_exporter": "python",
   "pygments_lexer": "ipython3",
   "version": "3.11.3"
  },
  "vscode": {
   "interpreter": {
    "hash": "bcb690d7a096d114b5411ea453cbe6506dfb4402b1a4c8888831b78b4b26966d"
   }
  }
 },
 "nbformat": 4,
 "nbformat_minor": 2
}
