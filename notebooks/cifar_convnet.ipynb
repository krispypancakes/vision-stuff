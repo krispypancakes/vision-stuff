{
 "cells": [
  {
   "cell_type": "code",
   "execution_count": 3,
   "metadata": {},
   "outputs": [],
   "source": [
    "%load_ext autoreload\n",
    "%autoreload 2\n",
    "\n",
    "import torch\n",
    "from torch import nn\n",
    "import torch.nn.functional as F\n",
    "import torch.optim as optim\n",
    "import numpy as np\n",
    "from torch.utils.data import DataLoader, Dataset\n",
    "import torchvision\n",
    "import torchvision.transforms as transforms\n",
    "import matplotlib.pyplot as plt\n",
    "import pickle\n",
    "from tqdm import trange\n",
    "try:\n",
    "  from helpers import get_model_size\n",
    "except ModuleNotFoundError:\n",
    "  import sys\n",
    "  sys.path.append(\"../\")\n",
    "  from helpers import get_model_size"
   ]
  },
  {
   "cell_type": "code",
   "execution_count": 4,
   "metadata": {},
   "outputs": [
    {
     "name": "stdout",
     "output_type": "stream",
     "text": [
      "Downloading https://www.cs.toronto.edu/~kriz/cifar-10-python.tar.gz to ../data/cifar-10-python.tar.gz\n"
     ]
    },
    {
     "name": "stderr",
     "output_type": "stream",
     "text": [
      "100.0%\n"
     ]
    },
    {
     "name": "stdout",
     "output_type": "stream",
     "text": [
      "Extracting ../data/cifar-10-python.tar.gz to ../data/\n",
      "Files already downloaded and verified\n"
     ]
    }
   ],
   "source": [
    "# we actually just need it to download cifar dataset\n",
    "torchvision.datasets.CIFAR10(train=True, download=True, root='../data/', transform=transforms.ToTensor())\n",
    "torchvision.datasets.CIFAR10(train=False, download=True, root='../data/', transform=transforms.ToTensor())"
   ]
  },
  {
   "cell_type": "code",
   "execution_count": 4,
   "metadata": {},
   "outputs": [],
   "source": [
    "class CiFaData(Dataset):\n",
    "  def __init__(self, stage=\"train\", transform=None, device=\"cpu\"):\n",
    "    self.device = device\n",
    "    self.base_folder = \"cifar-10-batches-py\"\n",
    "    self.transform = transform\n",
    "    if stage == \"train\":\n",
    "      batch_collection = [f\"data_batch_{i}\" for i in range(1, 5)]\n",
    "    elif stage == \"val\":\n",
    "      batch_collection = [\"data_batch_5\"]\n",
    "    elif stage == \"test\":\n",
    "      batch_collection = [\"test_batch\"]\n",
    "    else:\n",
    "      raise ValueError(\"Invalid stage, choose from train, val, test.\")\n",
    "    self.x_data = []\n",
    "    self.y_data = []\n",
    "    for batch in batch_collection:\n",
    "      with open(f\"../data/cifar-10-batches-py/{batch}\", \"rb\") as f:\n",
    "        data = pickle.load(f, encoding=\"latin1\") \n",
    "        self.x_data.extend(data[\"data\"])\n",
    "        self.y_data.extend(data[\"labels\"])\n",
    "    self.y_data = torch.tensor(self.y_data)\n",
    "    self.x_data = np.vstack(self.x_data).reshape(-1, 3, 32, 32) # from list to np stack; results in (N, 3, 32, 32)\n",
    "    self.x_data = self.x_data.transpose((0, 2, 3, 1)) # into (N, H, W, C)\n",
    "  def __len__(self):\n",
    "    return len(self.y_data)\n",
    "  def __getitem__(self, idx):\n",
    "    if self.transform:\n",
    "      return self.transform(self.x_data[idx]), self.y_data[idx]\n",
    "    return transforms.ToTensor()(self.x_data[idx]).to(self.device), self.y_data[idx].to(self.device)"
   ]
  },
  {
   "cell_type": "code",
   "execution_count": 5,
   "metadata": {},
   "outputs": [],
   "source": [
    "tf = transforms.Normalize((0.5, 0.5, 0.5), (0.5, 0.5, 0.5))\n",
    "# tf = transforms.Normalize(0.5, 0.5)\n",
    "\n",
    "# device = 'cuda' if torch.cuda.is_available() else 'cpu'\n",
    "device = 'cpu'\n",
    "\n",
    "train_ds = CiFaData(stage=\"train\", device=device)\n",
    "cuda_ds = CiFaData(stage=\"train\", device='cuda')\n",
    "cpu_ds = CiFaData(stage=\"train\", device='cpu')\n",
    "val_ds = CiFaData(stage=\"val\", device=device)\n",
    "test_ds = CiFaData(stage=\"test\", device=device)"
   ]
  },
  {
   "cell_type": "code",
   "execution_count": 6,
   "metadata": {},
   "outputs": [],
   "source": [
    "# pinning memory, takes cpu data and pins it to the gpu. meaning if I already \n",
    "cpu_loader = DataLoader(cpu_ds, batch_size=1024, shuffle=True)\n",
    "cuda_loader = DataLoader(cuda_ds, batch_size=128, shuffle=True) \n",
    "val_loader = DataLoader(val_ds, batch_size=32, shuffle=False)\n",
    "test_loader = DataLoader(test_ds, batch_size=32, shuffle=False)"
   ]
  },
  {
   "cell_type": "code",
   "execution_count": 7,
   "metadata": {},
   "outputs": [],
   "source": [
    "# using the Sequential container\n",
    "class LittleConvSeq(nn.Module):\n",
    "  def __init__(self):\n",
    "    super().__init__()\n",
    "    self.net = nn.Sequential(\n",
    "    nn.Conv2d(3,6,5), # out: (B, 6, 28, 28)\n",
    "    nn.ReLU(),\n",
    "    nn.MaxPool2d(2,2), # (B, 6, 14, 14)\n",
    "    nn.Flatten(1),\n",
    "    nn.Linear(6 *14*14, 10) # (B, 10)\n",
    "    )\n",
    "  def forward(self, x):\n",
    "    # x = F.relu(self.conv1(x))\n",
    "    # x = self.pool(x)\n",
    "    # x = self.fc1(torch.flatten(x,1))\n",
    "    return self.net(x)"
   ]
  },
  {
   "cell_type": "code",
   "execution_count": 8,
   "metadata": {},
   "outputs": [],
   "source": [
    "# without using the Sequential container\n",
    "class LittleConv(nn.Module):\n",
    "  def __init__(self):\n",
    "    super().__init__()\n",
    "    self.conv1 = nn.Conv2d(3,6,5) # out: (B, 6, 28, 28)\n",
    "    self.pool = nn.MaxPool2d(2,2) # (B, 6, 14, 14)\n",
    "    self.fc1 = nn.Linear(6 *14*14, 10) # (B, 10)\n",
    "\n",
    "  def forward(self, x):\n",
    "    x = F.relu(self.conv1(x))\n",
    "    x = self.pool(x)\n",
    "    x = self.fc1(torch.flatten(x,1))\n",
    "    return x"
   ]
  },
  {
   "cell_type": "code",
   "execution_count": 19,
   "metadata": {},
   "outputs": [
    {
     "name": "stderr",
     "output_type": "stream",
     "text": [
      "epoch 20: loss: 1.5168: 100%|██████████| 20/20 [00:46<00:00,  2.30s/it]\n"
     ]
    },
    {
     "data": {
      "text/plain": [
       "'that took 00:46 minutes'"
      ]
     },
     "execution_count": 19,
     "metadata": {},
     "output_type": "execute_result"
    }
   ],
   "source": [
    "# with cuda: bs32 - 2.44s; bs64 - 2.47; bs128 - 2.31s\n",
    "\n",
    "epochs = 20\n",
    "\n",
    "littleconv = LittleConv()\n",
    "optimimizer = optim.SGD(lr=0.001, params=littleconv.parameters(), momentum=0.9)\n",
    "criterion = nn.CrossEntropyLoss()\n",
    "littleconv.to('cuda')\n",
    "\n",
    "for i in (t:= trange(epochs)):\n",
    "  for x, y in cuda_loader:\n",
    "    optimimizer.zero_grad()\n",
    "    pred = littleconv(x)  \n",
    "    loss = criterion(pred, y)\n",
    "    loss.backward()\n",
    "    optimimizer.step()\n",
    "\n",
    "  t.set_description(f\"epoch {i+1}: loss: {loss.item():.4f}\")\n",
    "f\"that took {t.format_interval(t.format_dict['elapsed'])} minutes\""
   ]
  },
  {
   "cell_type": "code",
   "execution_count": 8,
   "metadata": {},
   "outputs": [
    {
     "name": "stderr",
     "output_type": "stream",
     "text": [
      "epoch 20: loss: 1.9749: 100%|██████████| 20/20 [00:31<00:00,  1.59s/it]\n"
     ]
    },
    {
     "data": {
      "text/plain": [
       "'that took 00:31 minutes'"
      ]
     },
     "execution_count": 8,
     "metadata": {},
     "output_type": "execute_result"
    }
   ],
   "source": [
    "# cpu: bs 32 - 1.76s; bs64 - 1.42; bs128 - 1.28s\n",
    "\n",
    "epochs = 20\n",
    "\n",
    "littleconv = LittleConv()\n",
    "optimimizer = optim.SGD(lr=0.001, params=littleconv.parameters(), momentum=0.9)\n",
    "criterion = nn.CrossEntropyLoss()\n",
    "littleconv.to('cpu')\n",
    "\n",
    "for i in (t:= trange(epochs)):\n",
    "  for x, y in cpu_loader:\n",
    "    optimimizer.zero_grad()\n",
    "    pred = littleconv(x)  \n",
    "    loss = criterion(pred, y)\n",
    "    loss.backward()\n",
    "    optimimizer.step()\n",
    "\n",
    "  t.set_description(f\"epoch {i+1}: loss: {loss.item():.4f}\")\n",
    "f\"that took {t.format_interval(t.format_dict['elapsed'])} minutes\""
   ]
  },
  {
   "cell_type": "code",
   "execution_count": 55,
   "metadata": {},
   "outputs": [
    {
     "name": "stderr",
     "output_type": "stream",
     "text": [
      "epoch 20: loss: 2.3024: 100%|██████████| 20/20 [00:37<00:00,  1.85s/it]\n"
     ]
    }
   ],
   "source": [
    "epochs = 20\n",
    "\n",
    "net.to('cpu')\n",
    "\n",
    "# littleconv = LittleConv()\n",
    "optimimizer = optim.SGD(lr=0.001, params=net.parameters(), momentum=0.9)\n",
    "criterion = nn.CrossEntropyLoss()\n",
    "\n",
    "for i in (t:= trange(epochs)):\n",
    "  for x, y in cpu_loader:\n",
    "    optimimizer.zero_grad()\n",
    "    pred = net(x)  \n",
    "    loss = criterion(pred, y)\n",
    "    loss.backward()\n",
    "    optimimizer.step()\n",
    "\n",
    "  t.set_description(f\"epoch {i+1}: loss: {loss.item():.4f}\")"
   ]
  },
  {
   "cell_type": "code",
   "execution_count": 62,
   "metadata": {},
   "outputs": [
    {
     "name": "stderr",
     "output_type": "stream",
     "text": [
      "epoch 20: loss: 1.9571: 100%|██████████| 20/20 [00:40<00:00,  2.05s/it]\n"
     ]
    }
   ],
   "source": [
    "epochs = 20\n",
    "\n",
    "net.to('cuda')\n",
    "\n",
    "# littleconv = LittleConv()\n",
    "optimimizer = optim.SGD(lr=0.001, params=net.parameters(), momentum=0.9)\n",
    "criterion = nn.CrossEntropyLoss()\n",
    "\n",
    "for i in (t:= trange(epochs)):\n",
    "  for x, y in cuda_loader:\n",
    "    optimimizer.zero_grad()\n",
    "    pred = net(x)  \n",
    "    loss = criterion(pred, y)\n",
    "    loss.backward()\n",
    "    optimimizer.step()\n",
    "\n",
    "  t.set_description(f\"epoch {i+1}: loss: {loss.item():.4f}\")"
   ]
  },
  {
   "cell_type": "markdown",
   "metadata": {},
   "source": [
    "ResNet 18"
   ]
  },
  {
   "cell_type": "code",
   "execution_count": 11,
   "metadata": {},
   "outputs": [],
   "source": [
    "# example net\n",
    "\n",
    "class Net(nn.Module):\n",
    "    def __init__(self):\n",
    "        super().__init__()\n",
    "        self.conv1 = nn.Conv2d(3, 6, 5)\n",
    "        self.pool = nn.MaxPool2d(2, 2)\n",
    "        self.conv2 = nn.Conv2d(6, 16, 5)\n",
    "        self.fc1 = nn.Linear(16 * 5 * 5, 120)\n",
    "        self.fc2 = nn.Linear(120, 84)\n",
    "        self.fc3 = nn.Linear(84, 10)\n",
    "\n",
    "    def forward(self, x):\n",
    "        x = self.pool(F.relu(self.conv1(x)))\n",
    "        x = self.pool(F.relu(self.conv2(x)))\n",
    "        x = torch.flatten(x, 1) # flatten all dimensions except batch\n",
    "        x = F.relu(self.fc1(x))\n",
    "        x = F.relu(self.fc2(x))\n",
    "        x = self.fc3(x)\n",
    "        return x\n",
    "\n",
    "net = Net()"
   ]
  },
  {
   "cell_type": "code",
   "execution_count": 34,
   "metadata": {},
   "outputs": [],
   "source": [
    "class ResNet18(nn.Module):\n",
    "  def __init__(self):\n",
    "    super().__init__()\n",
    "    self.block0 = nn.Sequential(\n",
    "      nn.Conv2d(in_channels=3, kernel_size=7, out_channels=64, stride=2, padding=3), \n",
    "      nn.ReLU(),\n",
    "      nn.MaxPool2d(kernel_size=3, stride=2, padding=1)\n",
    "    )\n",
    "    self.block1_1 = nn.Sequential(\n",
    "      nn.Conv2d(in_channels=64, kernel_size=3, out_channels=64, stride=2, padding=1),\n",
    "      nn.ReLU(),\n",
    "      nn.Conv2d(in_channels=64, kernel_size=3, out_channels=64, stride=1, padding=1)\n",
    "    )\n",
    "    self.block1_2 = nn.Sequential(\n",
    "      nn.Conv2d(in_channels=64, out_channels=64, kernel_size=3, stride=1, padding=1),\n",
    "      nn.ReLU(),\n",
    "      nn.Conv2d(in_channels=64, out_channels=64, kernel_size=3, stride=1, padding=1),\n",
    "    )\n",
    "    self.block2_1 = nn.Sequential(\n",
    "      nn.Conv2d(in_channels=64, out_channels=128, kernel_size=3, stride=2, padding=1),\n",
    "      nn.ReLU(),\n",
    "      nn.Conv2d(in_channels=128, out_channels=128, kernel_size=3, stride=1, padding=1),\n",
    "    )\n",
    "    self.block2_2 = nn.Sequential(\n",
    "      nn.Conv2d(in_channels=128, out_channels=128, kernel_size=3, stride=1, padding=1),\n",
    "      nn.ReLU(),\n",
    "      nn.Conv2d(in_channels=128, out_channels=128, kernel_size=3, stride=1, padding=1),\n",
    "    )\n",
    "    self.block3_1 = nn.Sequential(\n",
    "      nn.Conv2d(in_channels=128, out_channels=256, kernel_size=3, stride=2, padding=1),\n",
    "      nn.ReLU(),\n",
    "      nn.Conv2d(in_channels=256, out_channels=256, kernel_size=3, stride=1, padding=1),\n",
    "    )\n",
    "    self.block3_2 = nn.Sequential(\n",
    "      nn.Conv2d(in_channels=256, out_channels=256, kernel_size=3, stride=1, padding=1),\n",
    "      nn.ReLU(),\n",
    "      nn.Conv2d(in_channels=256, out_channels=256, kernel_size=3, stride=1, padding=1),\n",
    "    )\n",
    "    self.block4_1 = nn.Sequential(\n",
    "      nn.Conv2d(in_channels=256, out_channels=512, kernel_size=3, stride=2, padding=1),\n",
    "      nn.ReLU(),\n",
    "      nn.Conv2d(in_channels=512, out_channels=512, kernel_size=3, stride=1, padding=1),\n",
    "    )\n",
    "    self.block4_2 = nn.Sequential(\n",
    "      nn.Conv2d(in_channels=512, out_channels=512, kernel_size=3, stride=1, padding=1),\n",
    "      nn.ReLU(),\n",
    "      nn.Conv2d(in_channels=512, out_channels=512, kernel_size=3, stride=1, padding=1),\n",
    "    )\n",
    "    self.avg_pool = nn.AdaptiveAvgPool2d((1,1))\n",
    "    self.fc = nn.Linear(512, 10)\n",
    "  def forward(self, x):\n",
    "    # introduction block\n",
    "    x = self.block0(x)\n",
    "    # Block 1\n",
    "    x_skip = x # determine the skip-x\n",
    "    x = self.block1_1(x)\n",
    "    # project the output onto the skip and apply activation\n",
    "    x = F.relu(x+x_skip)\n",
    "    x_skip = x\n",
    "    x = self.block1_2(x)\n",
    "    x = F.relu(x+x_skip)\n",
    "    # Block 2 \n",
    "    # match dimensions\n",
    "    x_skip = nn.Conv2d(in_channels=64, out_channels=128, kernel_size=1)(x)\n",
    "    x = self.block2_1(x)\n",
    "    x = F.relu(x+x_skip)\n",
    "    x_skip = x\n",
    "    x = self.block2_2(x)\n",
    "    x = F.relu(x+x_skip)\n",
    "    # Block3\n",
    "    # match dimensions\n",
    "    x_skip = nn.Conv2d(in_channels=128, out_channels=512, kernel_size=1)\n",
    "    x = self.block3_1(x)\n",
    "    x = F.relu(x+x_skip)\n",
    "    x_skip = x\n",
    "    x = self.block3_2(x)\n",
    "    x = F.relu(x+x_skip)\n",
    "    # Block4\n",
    "    x_skip = nn.Conv2d(in_channels=128, out_channels=512, kernel_size=1)\n",
    "    x = self.block4_1(x)\n",
    "    x = F.relu(x+x_skip)\n",
    "    x_skip = x\n",
    "    x = self.block4_2(x)\n",
    "    x = F.relu(x+x_skip)\n",
    "    # end of resing\n",
    "    x = self.avg_pool(x)\n",
    "    x = torch.flatten(x, 1)\n",
    "    x = self.fc(x)\n",
    "    return x"
   ]
  },
  {
   "cell_type": "code",
   "execution_count": 35,
   "metadata": {},
   "outputs": [
    {
     "name": "stdout",
     "output_type": "stream",
     "text": [
      "model size: 41.977MB\n"
     ]
    }
   ],
   "source": [
    "device = 'cuda'\n",
    "epochs = 20\n",
    "\n",
    "res18 = ResNet18()\n",
    "res18.to(device)\n",
    "\n",
    "optimizer = optim.SGD(params=[p for p in res18.parameters() if p.requires_grad == True])\n",
    "criterion = nn.CrossEntropyLoss()\n",
    "\n",
    "model_size = get_model_size(res18)"
   ]
  },
  {
   "cell_type": "code",
   "execution_count": 36,
   "metadata": {},
   "outputs": [
    {
     "name": "stderr",
     "output_type": "stream",
     "text": [
      "  0%|          | 0/20 [00:00<?, ?it/s]\n"
     ]
    },
    {
     "ename": "RuntimeError",
     "evalue": "The size of tensor a (4) must match the size of tensor b (8) at non-singleton dimension 3",
     "output_type": "error",
     "traceback": [
      "\u001b[0;31m---------------------------------------------------------------------------\u001b[0m",
      "\u001b[0;31mRuntimeError\u001b[0m                              Traceback (most recent call last)",
      "Cell \u001b[0;32mIn[36], line 3\u001b[0m\n\u001b[1;32m      1\u001b[0m \u001b[38;5;28;01mfor\u001b[39;00m i \u001b[38;5;129;01min\u001b[39;00m (t\u001b[38;5;241m:=\u001b[39mtrange(epochs)):\n\u001b[1;32m      2\u001b[0m   \u001b[38;5;28;01mfor\u001b[39;00m x, y \u001b[38;5;129;01min\u001b[39;00m cuda_loader:\n\u001b[0;32m----> 3\u001b[0m     predictions \u001b[38;5;241m=\u001b[39m \u001b[43mres18\u001b[49m\u001b[43m(\u001b[49m\u001b[43mx\u001b[49m\u001b[43m)\u001b[49m\n\u001b[1;32m      4\u001b[0m     optimimizer\u001b[38;5;241m.\u001b[39mzero_grad()\n\u001b[1;32m      5\u001b[0m     loss \u001b[38;5;241m=\u001b[39m criterion(loss, predictions)\n",
      "File \u001b[0;32m~/hacking/vision-stuff/.venv/lib/python3.11/site-packages/torch/nn/modules/module.py:1511\u001b[0m, in \u001b[0;36mModule._wrapped_call_impl\u001b[0;34m(self, *args, **kwargs)\u001b[0m\n\u001b[1;32m   1509\u001b[0m     \u001b[38;5;28;01mreturn\u001b[39;00m \u001b[38;5;28mself\u001b[39m\u001b[38;5;241m.\u001b[39m_compiled_call_impl(\u001b[38;5;241m*\u001b[39margs, \u001b[38;5;241m*\u001b[39m\u001b[38;5;241m*\u001b[39mkwargs)  \u001b[38;5;66;03m# type: ignore[misc]\u001b[39;00m\n\u001b[1;32m   1510\u001b[0m \u001b[38;5;28;01melse\u001b[39;00m:\n\u001b[0;32m-> 1511\u001b[0m     \u001b[38;5;28;01mreturn\u001b[39;00m \u001b[38;5;28;43mself\u001b[39;49m\u001b[38;5;241;43m.\u001b[39;49m\u001b[43m_call_impl\u001b[49m\u001b[43m(\u001b[49m\u001b[38;5;241;43m*\u001b[39;49m\u001b[43margs\u001b[49m\u001b[43m,\u001b[49m\u001b[43m \u001b[49m\u001b[38;5;241;43m*\u001b[39;49m\u001b[38;5;241;43m*\u001b[39;49m\u001b[43mkwargs\u001b[49m\u001b[43m)\u001b[49m\n",
      "File \u001b[0;32m~/hacking/vision-stuff/.venv/lib/python3.11/site-packages/torch/nn/modules/module.py:1520\u001b[0m, in \u001b[0;36mModule._call_impl\u001b[0;34m(self, *args, **kwargs)\u001b[0m\n\u001b[1;32m   1515\u001b[0m \u001b[38;5;66;03m# If we don't have any hooks, we want to skip the rest of the logic in\u001b[39;00m\n\u001b[1;32m   1516\u001b[0m \u001b[38;5;66;03m# this function, and just call forward.\u001b[39;00m\n\u001b[1;32m   1517\u001b[0m \u001b[38;5;28;01mif\u001b[39;00m \u001b[38;5;129;01mnot\u001b[39;00m (\u001b[38;5;28mself\u001b[39m\u001b[38;5;241m.\u001b[39m_backward_hooks \u001b[38;5;129;01mor\u001b[39;00m \u001b[38;5;28mself\u001b[39m\u001b[38;5;241m.\u001b[39m_backward_pre_hooks \u001b[38;5;129;01mor\u001b[39;00m \u001b[38;5;28mself\u001b[39m\u001b[38;5;241m.\u001b[39m_forward_hooks \u001b[38;5;129;01mor\u001b[39;00m \u001b[38;5;28mself\u001b[39m\u001b[38;5;241m.\u001b[39m_forward_pre_hooks\n\u001b[1;32m   1518\u001b[0m         \u001b[38;5;129;01mor\u001b[39;00m _global_backward_pre_hooks \u001b[38;5;129;01mor\u001b[39;00m _global_backward_hooks\n\u001b[1;32m   1519\u001b[0m         \u001b[38;5;129;01mor\u001b[39;00m _global_forward_hooks \u001b[38;5;129;01mor\u001b[39;00m _global_forward_pre_hooks):\n\u001b[0;32m-> 1520\u001b[0m     \u001b[38;5;28;01mreturn\u001b[39;00m \u001b[43mforward_call\u001b[49m\u001b[43m(\u001b[49m\u001b[38;5;241;43m*\u001b[39;49m\u001b[43margs\u001b[49m\u001b[43m,\u001b[49m\u001b[43m \u001b[49m\u001b[38;5;241;43m*\u001b[39;49m\u001b[38;5;241;43m*\u001b[39;49m\u001b[43mkwargs\u001b[49m\u001b[43m)\u001b[49m\n\u001b[1;32m   1522\u001b[0m \u001b[38;5;28;01mtry\u001b[39;00m:\n\u001b[1;32m   1523\u001b[0m     result \u001b[38;5;241m=\u001b[39m \u001b[38;5;28;01mNone\u001b[39;00m\n",
      "Cell \u001b[0;32mIn[34], line 58\u001b[0m, in \u001b[0;36mResNet18.forward\u001b[0;34m(self, x)\u001b[0m\n\u001b[1;32m     56\u001b[0m x \u001b[38;5;241m=\u001b[39m \u001b[38;5;28mself\u001b[39m\u001b[38;5;241m.\u001b[39mblock1_1(x)\n\u001b[1;32m     57\u001b[0m \u001b[38;5;66;03m# project the output onto the skip and apply activation\u001b[39;00m\n\u001b[0;32m---> 58\u001b[0m x \u001b[38;5;241m=\u001b[39m F\u001b[38;5;241m.\u001b[39mrelu(\u001b[43mx\u001b[49m\u001b[38;5;241;43m+\u001b[39;49m\u001b[43mx_skip\u001b[49m)\n\u001b[1;32m     59\u001b[0m x_skip \u001b[38;5;241m=\u001b[39m x\n\u001b[1;32m     60\u001b[0m x \u001b[38;5;241m=\u001b[39m \u001b[38;5;28mself\u001b[39m\u001b[38;5;241m.\u001b[39mblock1_2(x)\n",
      "\u001b[0;31mRuntimeError\u001b[0m: The size of tensor a (4) must match the size of tensor b (8) at non-singleton dimension 3"
     ]
    }
   ],
   "source": [
    "for i in (t:=trange(epochs)):\n",
    "  for x, y in cuda_loader:\n",
    "    predictions = res18(x)\n",
    "    optimimizer.zero_grad()\n",
    "    loss = criterion(loss, predictions)\n",
    "    loss.backward()\n",
    "    optimimizer.step()\n",
    "  t.set_description(f\"epoch {i+1}; training loss: {loss.item()}\")\n"
   ]
  },
  {
   "cell_type": "code",
   "execution_count": null,
   "metadata": {},
   "outputs": [],
   "source": []
  }
 ],
 "metadata": {
  "kernelspec": {
   "display_name": ".venv",
   "language": "python",
   "name": "python3"
  },
  "language_info": {
   "codemirror_mode": {
    "name": "ipython",
    "version": 3
   },
   "file_extension": ".py",
   "mimetype": "text/x-python",
   "name": "python",
   "nbconvert_exporter": "python",
   "pygments_lexer": "ipython3",
   "version": "3.11.3"
  }
 },
 "nbformat": 4,
 "nbformat_minor": 2
}
